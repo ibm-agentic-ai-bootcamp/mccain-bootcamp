{
 "cells": [
  {
   "cell_type": "markdown",
   "metadata": {
    "id": "ce881efb-464b-44b9-85e8-f9e345925545"
   },
   "source": [
    "# Installing required packages"
   ]
  },
  {
   "cell_type": "code",
   "execution_count": null,
   "metadata": {
    "id": "5dc6f1c6-e120-4060-b39e-616930ef07e7"
   },
   "outputs": [],
   "source": [
    "!pip install crewai\n",
    "!pip install crewai crewai-tools\n",
    "\n"
   ]
  },
  {
   "cell_type": "markdown",
   "metadata": {
    "id": "2b6b9e1d-7a1f-4413-8f98-5122a98f380d"
   },
   "source": [
    "# Import necessary libraries and setting up environment variables"
   ]
  },
  {
   "cell_type": "code",
   "execution_count": null,
   "metadata": {
    "id": "730d238e-647e-41a8-8bd3-6f5dbca744dd"
   },
   "outputs": [],
   "source": [
    "from crewai import Crew, Task, Agent, LLM\n",
    "from crewai.process import Process\n",
    "import os"
   ]
  },
  {
   "cell_type": "code",
   "execution_count": null,
   "metadata": {
    "id": "764614df-4dce-456c-9032-172cb91f4b50"
   },
   "outputs": [],
   "source": [
    "os.environ['WATSONX_APIKEY']  = \"<YOUR API KEY>\"\n",
    "os.environ['WATSONX_PROJECT_ID'] = \"<YOUR PROJECT ID>\"\n",
    "os.environ['WX_URL']  = \"<YOUR URL>\""
   ]
  },
  {
   "cell_type": "markdown",
   "metadata": {
    "id": "fdd01f15-97c2-4113-8025-9f4d04fa94c7"
   },
   "source": [
    "# Defining LLM for the Loyalty Specialist Agent"
   ]
  },
  {
   "cell_type": "code",
   "execution_count": null,
   "metadata": {
    "id": "eef7d338-4413-466a-8066-2ea021b327ca"
   },
   "outputs": [],
   "source": [
    "# Create the first LLM\n",
    "llm = LLM(\n",
    "    model=\"watsonx/meta-llama/llama-3-405b-instruct\",\n",
    "    base_url=os.environ.get(\"WX_URL\"),\n",
    "    project_id=os.environ.get(\"WATSONX_PROJECT_ID\"),\n",
    "    api_key=os.environ['WATSONX_APIKEY'],\n",
    "    max_tokens=2000,\n",
    "    temperature=0.7,\n",
    ")"
   ]
  },
  {
   "cell_type": "markdown",
   "metadata": {
    "id": "f1e8c1f0-d226-4cc4-9ed8-f978970bd656"
   },
   "source": [
    "# Creating Agents and Tasks"
   ]
  },
  {
   "cell_type": "code",
   "execution_count": null,
   "metadata": {
    "id": "ed108834-b6c5-4598-8959-e380b851d9a1"
   },
   "outputs": [],
   "source": [
    "# Define the Loyalty Specialist Agent\n",
    "loyalty_program_expert = Agent(\n",
    "    llm=llm,\n",
    "    role=\"Loyalty Specialist\",\n",
    "    goal=\"Offer the best and most relevant deals on credit cards and memberships to maximize customer engagement and retention by tailoring offers to the customer convestation-history : {convestation-history}.\",\n",
    "    backstory=\"You specialize in loyalty programs and personalized offers for Lendyr's customers. \"\n",
    "              \"You analyze the convestation-history abd recommend the most suitable loyalty programs that provide maximum value. You aim to enhance customer loyalty by offering benefits that resonate with the customer's \"\n",
    "              \"needs, including reward points, cashback, travel perks, and exclusive membership privileges.\",\n",
    "    allow_delegation=False,\n",
    "    verbose=True,\n",
    ")\n",
    "\n",
    "# Define the Loyalty Program Recommendation Task\n",
    "recommend = Task(\n",
    "    description=(\n",
    "        \"1. Analyze the convestation-history with the customer to understand their preferences.\\n\"\n",
    "        \"2. Match the customer with the most relevant loyalty program offers, focusing on:\\n\"\n",
    "        \"   - Exclusive discounts and rewards matching their lifestyle.\\n\"\n",
    "        \"   - Cashback and points maximization tailored to their spending habits.\\n\"\n",
    "        \"   - Perks like free delivery or travel rewards for frequent buyers or travelers.\\n\"\n",
    "        \"   - Membership upgrades and special privileges for loyal customers.\\n\"\n",
    "        \"3. Highlight the benefits of higher loyalty tiers:\\n\"\n",
    "        \"   - Bronze: Entry-level perks and occasional discounts.\\n\"\n",
    "        \"   - Silver: Exclusive offers and faster reward accumulation.\\n\"\n",
    "        \"   - Gold: Premium benefits, VIP access, and enhanced services.\\n\"\n",
    "        \"4. Provide actionable insights on maximizing program value.\"\n",
    "    ),\n",
    "    expected_output=\"A concise list of personalized loyalty program benefits, with recommendations on how to maximize value.\",\n",
    "    agent=loyalty_program_expert,\n",
    ")\n",
    "\n",
    "\n",
    "writer = Agent(\n",
    "    llm=llm,\n",
    "    role=\"Writer\",\n",
    "    goal=\"Respond to conversations in a friendly, engaging tone while naturally promoting the best loyalty program benefits. Focus on the conversation history to recommend the most relevant loyalty program from Lendyr Bank.\",\n",
    "    backstory=\"You are a conversational expert specializing in loyalty programs and customer engagement. Your goal is to respond in a casual and informative manner, providing clear answers while subtly highlighting the benefits of Lendyr's offerings.\",\n",
    "    allow_delegation=False,\n",
    "    verbose=True,\n",
    ")\n",
    "write = Task(\n",
    "    description=(\n",
    "        \"1. Respond to the customer in a natural, conversational tone.\\n\"\n",
    "        \"2. Seamlessly mention relevant Credit Card and Membership benefits, linking them to the conversation history.\\n\"\n",
    "        \"3. Maintain a friendly, approachable, and engaging tone, incorporating emojis where appropriate to keep the conversation casual.\\n\"\n",
    "        \"4. Do not add any salutation or signature.\\n\"\n",
    "        \"5. Make sure the response is coherent wtih {convestation-history}.\\n\"\n",
    "    ),\n",
    "    expected_output=\"A friendly, conversational response that fits the conversation history. The response should naturally continue the flow of the conversation, highlighting relevant benefits without being too promotional.\",\n",
    "    agent=writer,\n",
    ")\n"
   ]
  },
  {
   "cell_type": "markdown",
   "metadata": {
    "id": "7d0e8ac5-7e77-4f22-962b-61c82cf6e7da"
   },
   "source": [
    "# Creating the Crew with Loyalty Program Expert and Writer agent"
   ]
  },
  {
   "cell_type": "code",
   "execution_count": null,
   "metadata": {
    "id": "a8ae4a4c-5df8-4e74-9af4-3f4836ba77e0"
   },
   "outputs": [],
   "source": [
    "# Define the Crew with all agents and tasks\n",
    "crew = Crew(\n",
    "    agents=[loyalty_program_expert, writer],\n",
    "    tasks=[recommend, write],\n",
    ")"
   ]
  },
  {
   "cell_type": "code",
   "execution_count": null,
   "metadata": {
    "id": "5f5525cc-f070-4181-8520-3d93f216df1f"
   },
   "outputs": [],
   "source": [
    "# Kick off the process with a travel-focused customer profile input and a question about perks\n",
    "input_history_1 = {\n",
    "        \"convestation-history\": \"\"\"\n",
    "        Leo:  \n",
    "        I am planning a trip to Hawaii in July with my spouse, and we’re really excited about it! We’re hoping to spend around $7,000 to cover flights, accommodations, and activities. What loan options do you have for something like this?\n",
    "        \n",
    "        Bank Agent:  \n",
    "        That sounds like an amazing trip! With your budget, we can look at a couple of options—either a personal loan or a travel loan. A personal loan offers more flexibility with repayment, while a travel loan is specifically designed for vacations like yours. Both options offer quick approval, and the interest rates will depend on your credit score. Would you like more details on each?\n",
    "        \n",
    "        Leo:  \n",
    "        Yes, I’d love to hear more about the travel loan. I want to make sure we get the best deal for our trip.\n",
    "        \n",
    "        Bank Agent:  \n",
    "        The travel loan is a great option for trips like yours. You can use it to cover everything—flights, hotels, activities, and even excursions—with low fixed interest rates. You’ll also have the flexibility to choose your repayment terms, anywhere from 12 to 36 months. The application process is simple, and you could get approved within 24 hours. Does that sound like a good fit for you and your spouse?\n",
    "        \n",
    "        Leo:  \n",
    "        That sounds perfect. I think the travel loan is the way to go. What about booking the trip? We’re thinking about traveling in July.\n",
    "        \"\"\"\n",
    "    }\n",
    "crew.kickoff(\n",
    "    inputs=input_history_1\n",
    ")"
   ]
  },
  {
   "cell_type": "markdown",
   "metadata": {
    "id": "80dfb956-07e3-4b51-bd15-21ed8c31a157"
   },
   "source": [
    "# Lets Try with different inputs"
   ]
  },
  {
   "cell_type": "code",
   "execution_count": null,
   "metadata": {
    "id": "ec95716e-5bf3-40ae-b77c-7c29327545fa"
   },
   "outputs": [],
   "source": [
    "# Kick off the process with a travel-focused customer profile input and a question about perks\n",
    "input_history_2 = {\n",
    "        \"convestation-history\": \"\"\"\n",
    "        Leo:\n",
    "        We’re planning a family trip to Lake Tahoe this spring with my spouse, our three kids, and a baby. We’re aiming to spend around $8,000 for flights, accommodations, and activities. What loan options do you have for something like this?\n",
    "        \n",
    "        Bank Agent:\n",
    "        That sounds like a fun trip! With your budget, we can explore either a personal loan or a travel loan. A personal loan gives you more flexibility with repayment, while a travel loan is specifically designed for vacations like yours. Both options have quick approval, and the interest rates depend on your credit score. Would you like more details on each?\n",
    "        \n",
    "        Leo:\n",
    "        Yes, please! I’d love to hear more about the travel loan. We want to make sure we’re getting the best deal for the trip.\n",
    "        \n",
    "        Bank Agent:\n",
    "        The travel loan would be a great fit for your trip to Lake Tahoe. You can use it to cover everything—flights, accommodations, activities, and even baby-friendly extras—with low, fixed interest rates. You can also choose repayment terms from 12 to 36 months. The application process is easy, and in most cases, you can get approved within 24 hours. Does that sound like a good option for you and your family?\n",
    "        \n",
    "        Leo:\n",
    "        That sounds great! I think the travel loan is the way to go. What about booking the trip itself? We’re thinking of going in the spring.\n",
    "        \n",
    "        \"\"\"\n",
    "    }\n",
    "crew.kickoff(\n",
    "    inputs=input_history_2\n",
    ")"
   ]
  },
  {
   "cell_type": "code",
   "execution_count": null,
   "metadata": {
    "id": "ae91d2ac-65ea-4c86-ab1f-3232f54665a8"
   },
   "outputs": [],
   "source": [
    "# Kick off the process with a travel-focused customer profile input and a question about perks\n",
    "input_history_3 = {\n",
    "        \"convestation-history\": \"\"\"\n",
    "        Leo:  \n",
    "        We’re planning a trip to Mount Hood this spring with my spouse and our puppy. We’re aiming to spend about $5,000 to cover our travel, accommodations, and activities. What loan options do you have for something like this?\n",
    "        \n",
    "        Bank Agent:  \n",
    "        That sounds like a wonderful trip! With your budget, we can consider either a personal loan or a travel loan. A personal loan gives you more flexibility with repayment, while a travel loan is specifically designed for vacations like yours. Both options offer quick approval, and the interest rates will depend on your credit score. Would you like more details on each?\n",
    "        \n",
    "        Leo:  \n",
    "        Yes, I’d love to know more about the travel loan. I want to make sure we get the best deal for our trip with our puppy.\n",
    "        \n",
    "        Bank Agent:  \n",
    "        The travel loan is a perfect fit for trips like yours. You can use it to cover everything—flights, accommodations, activities, and even pet-friendly extras—with low fixed interest rates. Plus, you’ll have the flexibility to choose repayment terms from 12 to 36 months. The application process is quick, and you could be approved within 24 hours. Does that sound good for you, your spouse, and your puppy?\n",
    "        \n",
    "        Leo:  \n",
    "        That sounds great! I think the travel loan would work well for us. What about booking the trip? We’re looking to go in the spring.\n",
    "        \"\"\"\n",
    "    }\n",
    "crew.kickoff(\n",
    "    inputs=input_history_3\n",
    ")"
   ]
  },
  {
   "cell_type": "markdown",
   "metadata": {},
   "source": [
    "# Can you further enhance the crew to generate a more conversational-style output?"
   ]
  },
  {
   "cell_type": "code",
   "execution_count": null,
   "metadata": {},
   "outputs": [],
   "source": []
  }
 ],
 "metadata": {
  "kernelspec": {
   "display_name": "Python 3.11",
   "language": "python",
   "name": "python3"
  },
  "language_info": {
   "codemirror_mode": {
    "name": "ipython",
    "version": 3
   },
   "file_extension": ".py",
   "mimetype": "text/x-python",
   "name": "python",
   "nbconvert_exporter": "python",
   "pygments_lexer": "ipython3",
   "version": "3.11.9"
  }
 },
 "nbformat": 4,
 "nbformat_minor": 4
}
