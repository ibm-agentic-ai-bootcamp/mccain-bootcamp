{
 "cells": [
  {
   "cell_type": "markdown",
   "metadata": {
    "id": "ad22de3b-5db5-4f21-b272-2f2a44c89a57"
   },
   "source": [
    "# Installing required packages\n"
   ]
  },
  {
   "cell_type": "code",
   "execution_count": null,
   "metadata": {
    "id": "23d2081d-757b-4c9d-8c83-3ace931c7530",
    "scrolled": true
   },
   "outputs": [],
   "source": [
    "!pip install crewai\n",
    "!pip install crewai-tools"
   ]
  },
  {
   "cell_type": "markdown",
   "metadata": {
    "id": "8afa3b62-1656-4c64-83d2-9757d9d670ad"
   },
   "source": [
    "# Import necessary libraries and setting up environment variables"
   ]
  },
  {
   "cell_type": "code",
   "execution_count": null,
   "metadata": {
    "id": "de510ff2-3f50-4bad-8fa1-c2f8f2e31e09"
   },
   "outputs": [],
   "source": [
    "import os\n",
    "from crewai import Agent, Task, Crew, LLM\n",
    "from ibm_watsonx_ai import Credentials, APIClient\n",
    "from ibm_watsonx_ai.deployments import RuntimeContext"
   ]
  },
  {
   "cell_type": "code",
   "execution_count": null,
   "metadata": {
    "id": "9d448f78-33fd-4a73-a31b-6e4ae44dc236"
   },
   "outputs": [],
   "source": [
    "os.environ['WATSONX_APIKEY']  = \"<YOUR API KEY>\"\n",
    "os.environ['WATSONX_PROJECT_ID'] = \"<YOUR PROJECT ID>\"\n",
    "os.environ['WX_URL']  = \"<YOUR URL>\"\n",
    "os.environ['WX_SPACE_ID']  = \"<YOUR SPACE ID>\""
   ]
  },
  {
   "cell_type": "markdown",
   "metadata": {
    "id": "b20e8d14-8295-47e9-9604-b28876914bfa"
   },
   "source": [
    "# Initialize API Client with Credentials and Configuration"
   ]
  },
  {
   "cell_type": "code",
   "execution_count": null,
   "metadata": {
    "id": "e9579e2c-dca1-42e6-9d63-4ba48d6814f3"
   },
   "outputs": [],
   "source": [
    "credentials = Credentials(\n",
    "    url = os.environ.get('WX_URL'),\n",
    "    api_key = os.environ.get('WATSONX_APIKEY'),\n",
    ")\n",
    "\n",
    "space_id = os.environ.get('WX_SPACE_ID')\n",
    "project_id = os.environ.get('WATSONX_PROJECT_ID')\n",
    "api_client = APIClient(credentials=credentials)"
   ]
  },
  {
   "cell_type": "markdown",
   "metadata": {
    "id": "48bbf4cb-04b4-4ab9-bde7-015b5d2829e5"
   },
   "source": [
    "# Creating a Deployable AI Service"
   ]
  },
  {
   "cell_type": "code",
   "execution_count": null,
   "metadata": {
    "id": "5a43c949-af60-4ae3-805b-76bc5e1d46c2"
   },
   "outputs": [],
   "source": [
    "# Uncommnet the following to get a list of your space ids\n",
    "# api_client.spaces.list() "
   ]
  },
  {
   "cell_type": "code",
   "execution_count": null,
   "metadata": {
    "id": "4345884b-7baf-4b63-b48f-eccf6c2454fd"
   },
   "outputs": [],
   "source": [
    "def deployable_ai_service(context, url=credentials[\"url\"], api_key=credentials[\"api_key\"], space_id = space_id, project_id = project_id, **kwargs):\n",
    "    \n",
    "    from ibm_watsonx_ai import APIClient, Credentials\n",
    "    from crewai import Agent, Task, Crew, LLM\n",
    "    \n",
    "    api_client = APIClient(\n",
    "        credentials=Credentials(url=url, token=context.generate_token()),\n",
    "        space_id= space_id\n",
    "    )\n",
    "\n",
    "        \n",
    "    \n",
    "    def gen_ai_service_with_crew(conversation_history_dict):\n",
    "        # Create the first LLM\n",
    "        \n",
    "    \n",
    "        llm = LLM(\n",
    "            model=\"watsonx/meta-llama/llama-3-405b-instruct\",\n",
    "            base_url=url,\n",
    "            project_id=project_id,\n",
    "            api_key=api_key,\n",
    "            max_tokens=2000,\n",
    "            temperature=0.7,\n",
    "        )\n",
    "        \n",
    "        # Define the Loyalty Specialist Agent\n",
    "        loyalty_program_expert = Agent(\n",
    "            llm=llm,\n",
    "            role=\"Loyalty Specialist\",\n",
    "            goal=\"Offer the best and most relevant deals on credit cards and memberships to maximize customer engagement and retention by tailoring offers to the customer's conversation history: {conversation-history}.\",\n",
    "            backstory=\"You specialize in loyalty programs and personalized offers for Lendyr's customers. \"\n",
    "                      \"You analyze the conversation-history and recommend the most suitable loyalty programs that provide maximum value. You aim to enhance customer loyalty by offering benefits that resonate with the customer's \"\n",
    "                      \"needs, including reward points, cashback, travel perks, and exclusive membership privileges.\",\n",
    "            allow_delegation=False,\n",
    "            verbose=True,\n",
    "        )\n",
    "        \n",
    "        # Define the Loyalty Program Recommendation Task\n",
    "        recommend = Task(\n",
    "            description=(\n",
    "                \"1. Analyze the conversation-history with the customer to understand their preferences.\\n\"\n",
    "                \"2. Match the customer with the most relevant loyalty program offers, focusing on:\\n\"\n",
    "                \"   - Exclusive discounts and rewards matching their lifestyle.\\n\"\n",
    "                \"   - Cashback and points maximization tailored to their spending habits.\\n\"\n",
    "                \"   - Perks like free delivery or travel rewards for frequent buyers or travelers.\\n\"\n",
    "                \"   - Membership upgrades and special privileges for loyal customers.\\n\"\n",
    "                \"3. Highlight the benefits of higher loyalty tiers:\\n\"\n",
    "                \"   - Bronze: Entry-level perks and occasional discounts.\\n\"\n",
    "                \"   - Silver: Exclusive offers and faster reward accumulation.\\n\"\n",
    "                \"   - Gold: Premium benefits, VIP access, and enhanced services.\\n\"\n",
    "                \"4. Provide actionable insights on maximizing program value.\"\n",
    "            ),\n",
    "            expected_output=\"A concise list of personalized loyalty program benefits, with recommendations on how to maximize value.\",\n",
    "            agent=loyalty_program_expert,\n",
    "        )\n",
    "        \n",
    "        # Define the Writer Agent\n",
    "        writer = Agent(\n",
    "            llm=llm,\n",
    "            role=\"Writer\",\n",
    "            goal=\"Respond to conversations in a friendly, engaging tone while naturally promoting the best loyalty program benefits. Focus on the conversation history to recommend the most relevant loyalty program from Lendyr Bank.\",\n",
    "            backstory=\"You are a conversational expert specializing in loyalty programs and customer engagement. Your goal is to respond in a casual and informative manner, providing clear answers while subtly highlighting the benefits of Lendyr's offerings.\",\n",
    "            allow_delegation=False,\n",
    "            verbose=True,\n",
    "        )\n",
    "        \n",
    "        # Define the Writer Task\n",
    "        write = Task(\n",
    "            description=(\n",
    "                \"1. Respond to the customer in a natural, conversational tone.\\n\"\n",
    "                \"2. Seamlessly mention relevant Credit Card and Membership benefits, linking them to the conversation history.\\n\"\n",
    "                \"3. Maintain a friendly, approachable, and engaging tone, incorporating emojis where appropriate to keep the conversation casual.\\n\"\n",
    "                \"4. Do not add any salutation or signature.\\n\"\n",
    "                \"5. Make sure the response is coherent with {conversation-history}.\\n\"\n",
    "            ),\n",
    "            expected_output=\"A friendly, conversational response that fits the conversation history. The response should naturally continue the flow of the conversation, highlighting relevant benefits without being too promotional.\",\n",
    "            agent=writer,\n",
    "        )\n",
    "        \n",
    "        # Define the Editor Agent\n",
    "        editor = Agent(\n",
    "            llm=llm,\n",
    "            role=\"Editor\",\n",
    "            goal=\"Refine the conversational content from the Writer to be concise, engaging, and impactful.\",\n",
    "            backstory=\"You are an editor focused on making content short, snappy, and impactful.\",\n",
    "            allow_delegation=False,\n",
    "            verbose=True,\n",
    "        )\n",
    "        \n",
    "        # Define the Editor Task\n",
    "        edit = Task(\n",
    "            description=(\n",
    "                \"1. Make sure the response fits in with the flow of the conversation-history.\\n\"\n",
    "                \"2. Ensure the response is within 75 words.\\n\"\n",
    "            ),\n",
    "            expected_output=\"The conversation should be brief, attention-grabbing, and consistent in tone.\",\n",
    "            agent=editor,\n",
    "        )\n",
    "        \n",
    "        # Define the Crew with all agents and tasks\n",
    "        crew = Crew(\n",
    "            agents=[loyalty_program_expert, writer, editor],\n",
    "            tasks=[recommend, write, edit],\n",
    "        )\n",
    "        # Run the crew with the input conversation history\n",
    "        output = crew.kickoff(inputs=conversation_history_dict)\n",
    "        return str(output)\n",
    "        \n",
    "    def generate(context) -> dict:\n",
    "        \n",
    "        api_client.set_token(context.get_token())\n",
    "   \n",
    "        payload = context.get_json()\n",
    "        history = payload[\"history\"]\n",
    "        results = []\n",
    "        conversation_history_dict = {}\n",
    "        conversation_history_dict['conversation-history']=history\n",
    "        \n",
    "        result = gen_ai_service_with_crew(conversation_history_dict)\n",
    "        results.append(result)\n",
    "        \n",
    "        \n",
    "        response_body = {\n",
    "            \"result\": results,\n",
    "        }\n",
    "        return {\"body\": response_body}\n",
    "        \n",
    "    return generate"
   ]
  },
  {
   "cell_type": "markdown",
   "metadata": {
    "id": "e5825489-31e0-4c1f-9f60-800bcf74574a"
   },
   "source": [
    "# Testing the Deployment Function with RuntimeContext"
   ]
  },
  {
   "cell_type": "code",
   "execution_count": null,
   "metadata": {
    "id": "c6be0651-57c0-4bf5-a267-8ee3ee27120a"
   },
   "outputs": [],
   "source": [
    "context = RuntimeContext(api_client=api_client)"
   ]
  },
  {
   "cell_type": "code",
   "execution_count": null,
   "metadata": {
    "id": "e15449ab-e775-411a-a539-99aa8ef11978",
    "scrolled": true
   },
   "outputs": [],
   "source": [
    "history =  \"\"\"\n",
    "        Leo:  \n",
    "        I am planning a trip to Hawaii in July with my spouse, and we’re really excited about it! We’re hoping to spend around $7,000 to cover flights, accommodations, and activities. What loan options do you have for something like this?\n",
    "        \n",
    "        Bank Agent:  \n",
    "        That sounds like an amazing trip! With your budget, we can look at a couple of options—either a personal loan or a travel loan. A personal loan offers more flexibility with repayment, while a travel loan is specifically designed for vacations like yours. Both options offer quick approval, and the interest rates will depend on your credit score. Would you like more details on each?\n",
    "        \n",
    "        Leo:  \n",
    "        Yes, I’d love to hear more about the travel loan. I want to make sure we get the best deal for our trip.\n",
    "        \n",
    "        Bank Agent:  \n",
    "        The travel loan is a great option for trips like yours. You can use it to cover everything—flights, hotels, activities, and even excursions—with low fixed interest rates. You’ll also have the flexibility to choose your repayment terms, anywhere from 12 to 36 months. The application process is simple, and you could get approved within 24 hours. Does that sound like a good fit for you and your spouse?\n",
    "        \n",
    "        Leo:  \n",
    "        That sounds perfect. I think the travel loan is the way to go. What about booking the trip? We’re thinking about traveling in July.\n",
    "        \"\"\"\n",
    "    \n",
    "context.request_payload_json = {\"history\": history}\n",
    "\n",
    "resp = deployable_ai_service(context=context)(context)"
   ]
  },
  {
   "cell_type": "markdown",
   "metadata": {
    "id": "65279990-d545-46c7-a6e8-320651be1b48"
   },
   "source": [
    "# Deploy the function"
   ]
  },
  {
   "cell_type": "markdown",
   "metadata": {
    "id": "f50b7ba3-a958-4932-9e5e-3e5ee05192b0"
   },
   "source": [
    "## Generate and Save Conda Environment Configuration YAML File"
   ]
  },
  {
   "cell_type": "code",
   "execution_count": null,
   "metadata": {
    "id": "c247fe4e-2f82-47d2-a306-7910ff46f653"
   },
   "outputs": [],
   "source": [
    "config_yml =\\\n",
    "\"\"\"\n",
    "name: python311\n",
    "channels:\n",
    "  - empty\n",
    "dependencies:\n",
    "  - pip:\n",
    "    - crewai\n",
    "    - crewai-tools\n",
    "prefix: /opt/anaconda3/envs/python311\n",
    "\"\"\"\n",
    "\n",
    "with open(\"config.yaml\", \"w\", encoding=\"utf-8\") as f:\n",
    "    f.write(config_yml)"
   ]
  },
  {
   "cell_type": "code",
   "execution_count": null,
   "metadata": {
    "id": "a54bc074-dc6a-44d7-93dd-efd659860172"
   },
   "outputs": [],
   "source": [
    "api_client.set.default_space(space_id)"
   ]
  },
  {
   "cell_type": "markdown",
   "metadata": {
    "id": "14e6b061-99ec-4e41-a42a-892522fdc342"
   },
   "source": [
    "## Register and Store Environment with Package Extension Metadata"
   ]
  },
  {
   "cell_type": "code",
   "execution_count": null,
   "metadata": {
    "id": "ae5a2059-d62d-49d3-a11f-4f72abad5968"
   },
   "outputs": [],
   "source": [
    "base_sw_spec_id = api_client.software_specifications.get_id_by_name(\"runtime-24.1-py3.11\")\n",
    "meta_prop_pkg_extn = {\n",
    "    api_client.package_extensions.ConfigurationMetaNames.NAME: \"crewai watsonx.ai env\",\n",
    "    api_client.package_extensions.ConfigurationMetaNames.DESCRIPTION: \"Environment with crew ai\",\n",
    "    api_client.package_extensions.ConfigurationMetaNames.TYPE: \"conda_yml\"\n",
    "}\n",
    "\n",
    "pkg_extn_details = api_client.package_extensions.store(meta_props=meta_prop_pkg_extn, file_path=\"config.yaml\")\n",
    "pkg_extn_id = api_client.package_extensions.get_id(pkg_extn_details)\n",
    "pkg_extn_id"
   ]
  },
  {
   "cell_type": "markdown",
   "metadata": {
    "id": "eb5327bb-254a-41b1-bc80-9a8453dedc5a"
   },
   "source": [
    "## Create and Store Software Specification with Package Extension"
   ]
  },
  {
   "cell_type": "code",
   "execution_count": null,
   "metadata": {
    "id": "9ecf0961-4336-46ec-9740-ddef85b7d6f0"
   },
   "outputs": [],
   "source": [
    "meta_prop_sw_spec = {\n",
    "    api_client.software_specifications.ConfigurationMetaNames.NAME: \"change-to-new-name-6\",\n",
    "    api_client.software_specifications.ConfigurationMetaNames.DESCRIPTION: \"Software specification deployment\",\n",
    "    api_client.software_specifications.ConfigurationMetaNames.BASE_SOFTWARE_SPECIFICATION: {\"guid\": base_sw_spec_id}\n",
    "}\n",
    "\n",
    "sw_spec_details = api_client.software_specifications.store(meta_props=meta_prop_sw_spec)\n",
    "sw_spec_id = api_client.software_specifications.get_id(sw_spec_details)\n",
    "api_client.software_specifications.add_package_extension(sw_spec_id, pkg_extn_id)\n",
    "sw_spec_id"
   ]
  },
  {
   "cell_type": "markdown",
   "metadata": {
    "id": "24cfc732-4db8-4b6f-b580-614c6399c6e7"
   },
   "source": [
    "## Store AI Service with Software Specification"
   ]
  },
  {
   "cell_type": "code",
   "execution_count": null,
   "metadata": {
    "id": "6079786a-91eb-4bf8-9139-8fed9f1b9e88"
   },
   "outputs": [],
   "source": [
    "meta_props = {\n",
    "    api_client.repository.AIServiceMetaNames.NAME: \"AI service SDK\",    \n",
    "    api_client.repository.AIServiceMetaNames.SOFTWARE_SPEC_ID: sw_spec_id\n",
    "}\n",
    "stored_ai_service_details = api_client.repository.store_ai_service(deployable_ai_service, meta_props)\n"
   ]
  },
  {
   "cell_type": "markdown",
   "metadata": {
    "id": "a3d04066-ea88-4eb0-a851-c082dc7622e8"
   },
   "source": [
    "## Retrieve Stored AI Service ID "
   ]
  },
  {
   "cell_type": "code",
   "execution_count": null,
   "metadata": {
    "id": "37ffbb5b-fba8-4aa7-aaf5-11e3d0045ea5"
   },
   "outputs": [],
   "source": [
    "ai_service_id = api_client.repository.get_ai_service_id(stored_ai_service_details)\n",
    "ai_service_id"
   ]
  },
  {
   "cell_type": "markdown",
   "metadata": {
    "id": "20f69fd9-855a-4eb0-b3c0-5cae7ed80fdf"
   },
   "source": [
    "## Deploy AI Service with Crew AI Agent"
   ]
  },
  {
   "cell_type": "code",
   "execution_count": null,
   "metadata": {
    "id": "8baa25a6-5339-4c06-96b9-5e4966399753"
   },
   "outputs": [],
   "source": [
    "meta_props = {\n",
    "    api_client.deployments.ConfigurationMetaNames.NAME: \"AI service with crew ai agent\",\n",
    "    api_client.deployments.ConfigurationMetaNames.ONLINE: {},\n",
    "}\n",
    "\n",
    "deployment_details = api_client.deployments.create(ai_service_id, meta_props)"
   ]
  },
  {
   "cell_type": "code",
   "execution_count": null,
   "metadata": {
    "id": "71218687-e735-40c4-84fb-7e57e05f7bdc"
   },
   "outputs": [],
   "source": [
    "deployment_id = api_client.deployments.get_id(deployment_details)"
   ]
  },
  {
   "cell_type": "markdown",
   "metadata": {
    "id": "64956d58-5542-44c4-af9d-940371117446"
   },
   "source": [
    "# Test Deployment"
   ]
  },
  {
   "cell_type": "code",
   "execution_count": null,
   "metadata": {
    "id": "02312cd4-23b5-4c11-af67-bea0d8b0f8de"
   },
   "outputs": [],
   "source": [
    "history =  \"\"\"\n",
    "        Leo:  \n",
    "        I am planning a trip to Hawaii in July with my spouse, and we’re really excited about it! We’re hoping to spend around $7,000 to cover flights, accommodations, and activities. What loan options do you have for something like this?\n",
    "        \n",
    "        Bank Agent:  \n",
    "        That sounds like an amazing trip! With your budget, we can look at a couple of options—either a personal loan or a travel loan. A personal loan offers more flexibility with repayment, while a travel loan is specifically designed for vacations like yours. Both options offer quick approval, and the interest rates will depend on your credit score. Would you like more details on each?\n",
    "        \n",
    "        Leo:  \n",
    "        Yes, I’d love to hear more about the travel loan. I want to make sure we get the best deal for our trip.\n",
    "        \n",
    "        Bank Agent:  \n",
    "        The travel loan is a great option for trips like yours. You can use it to cover everything—flights, hotels, activities, and even excursions—with low fixed interest rates. You’ll also have the flexibility to choose your repayment terms, anywhere from 12 to 36 months. The application process is simple, and you could get approved within 24 hours. Does that sound like a good fit for you and your spouse?\n",
    "        \n",
    "        Leo:  \n",
    "        That sounds perfect. I think the travel loan is the way to go. What about booking the trip? We’re thinking about traveling in July.\n",
    "        \"\"\"\n",
    "\n",
    "\n",
    "deployments_results = api_client.deployments.run_ai_service(\n",
    "    deployment_id,  {\"history\": history}\n",
    ")"
   ]
  },
  {
   "cell_type": "code",
   "execution_count": null,
   "metadata": {
    "id": "6d12c951-5774-4bb4-ba78-8646758b0203"
   },
   "outputs": [],
   "source": [
    "deployments_results"
   ]
  },
  {
   "cell_type": "code",
   "execution_count": null,
   "metadata": {
    "id": "28b6b059-0f88-407c-958f-63c2579993c6"
   },
   "outputs": [],
   "source": []
  }
 ],
 "metadata": {
  "kernelspec": {
   "display_name": "Python 3.11",
   "language": "python",
   "name": "python3"
  },
  "language_info": {
   "codemirror_mode": {
    "name": "ipython",
    "version": 3
   },
   "file_extension": ".py",
   "mimetype": "text/x-python",
   "name": "python",
   "nbconvert_exporter": "python",
   "pygments_lexer": "ipython3",
   "version": "3.11.9"
  }
 },
 "nbformat": 4,
 "nbformat_minor": 4
}
